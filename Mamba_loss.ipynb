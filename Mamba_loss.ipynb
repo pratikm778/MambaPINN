{
  "cells": [
    {
      "cell_type": "code",
      "execution_count": 2,
      "metadata": {
        "id": "rFqUXRxLfshD"
      },
      "outputs": [],
      "source": [
        "import os\n",
        "os.chdir(\"/content/drive/My Drive/Mamba-Proj\")"
      ]
    },
    {
      "cell_type": "code",
      "execution_count": 1,
      "metadata": {
        "id": "bbPXjX9uZBP6"
      },
      "outputs": [
        {
          "ename": "ModuleNotFoundError",
          "evalue": "No module named 'numpy'",
          "output_type": "error",
          "traceback": [
            "\u001b[1;31m---------------------------------------------------------------------------\u001b[0m",
            "\u001b[1;31mModuleNotFoundError\u001b[0m                       Traceback (most recent call last)",
            "Cell \u001b[1;32mIn[1], line 1\u001b[0m\n\u001b[1;32m----> 1\u001b[0m \u001b[38;5;28;01mimport\u001b[39;00m \u001b[38;5;21;01mnumpy\u001b[39;00m \u001b[38;5;28;01mas\u001b[39;00m \u001b[38;5;21;01mnp\u001b[39;00m\n\u001b[0;32m      2\u001b[0m \u001b[38;5;28;01mimport\u001b[39;00m \u001b[38;5;21;01mpandas\u001b[39;00m \u001b[38;5;28;01mas\u001b[39;00m \u001b[38;5;21;01mpd\u001b[39;00m\n\u001b[0;32m      3\u001b[0m \u001b[38;5;28;01mimport\u001b[39;00m \u001b[38;5;21;01mmatplotlib\u001b[39;00m\u001b[38;5;21;01m.\u001b[39;00m\u001b[38;5;21;01mpyplot\u001b[39;00m \u001b[38;5;28;01mas\u001b[39;00m \u001b[38;5;21;01mplt\u001b[39;00m\n",
            "\u001b[1;31mModuleNotFoundError\u001b[0m: No module named 'numpy'"
          ]
        }
      ],
      "source": [
        "import numpy as np\n",
        "import pandas as pd\n",
        "import matplotlib.pyplot as plt\n",
        "from sklearn.metrics import mean_squared_error,mean_absolute_error,r2_score\n",
        "import torch\n",
        "import torch.nn as nn\n",
        "import torch.nn.functional as F\n",
        "from mamba import Mamba, MambaConfig\n",
        "import argparse\n",
        "import logging\n",
        "logging.basicConfig(level=logging.INFO, format='%(asctime)s %(levelname)s: %(message)s')"
      ]
    },
    {
      "cell_type": "code",
      "execution_count": 21,
      "metadata": {
        "colab": {
          "base_uri": "https://localhost:8080/"
        },
        "id": "UvuAZUfZdsEF",
        "outputId": "0d0df31b-f23a-4ea4-9159-2a8f477ff911"
      },
      "outputs": [
        {
          "data": {
            "text/plain": [
              "_StoreAction(option_strings=['-f'], dest='f', nargs=None, const=None, default='/content/drive/My Drive/Mamba-Proj', type=<class 'str'>, choices=None, required=False, help='current directory', metavar=None)"
            ]
          },
          "execution_count": 21,
          "metadata": {},
          "output_type": "execute_result"
        }
      ],
      "source": [
        "parser = argparse.ArgumentParser()\n",
        "parser.add_argument('--use-cuda', default=False,\n",
        "                    help='CUDA training.')\n",
        "parser.add_argument('--seed', type=int, default=1, help='Random seed.')\n",
        "parser.add_argument('--epochs', type=int, default=20,\n",
        "                    help='Number of epochs to train.')\n",
        "parser.add_argument('--lr', type=float, default=0.01,\n",
        "                    help='Learning rate.')\n",
        "parser.add_argument('--wd', type=float, default=1e-5,\n",
        "                    help='Weight decay (L2 loss on parameters).')\n",
        "parser.add_argument('--hidden', type=int, default=16,\n",
        "                    help='Dimension of representations')\n",
        "parser.add_argument('--layer', type=int, default=2,\n",
        "                    help='Num of layers')\n",
        "parser.add_argument('--n-test', type=int, default=500,\n",
        "                    help='Size of test set')\n",
        "#parser.add_argument('--ts-code', type=str, default='601988',\n",
        "#                    help='Stock code')\n",
        "parser.add_argument('-f', type=str, default='/content/drive/My Drive/Mamba-Proj',\n",
        "                    help='current directory')"
      ]
    },
    {
      "cell_type": "code",
      "execution_count": 5,
      "metadata": {
        "id": "8_7SWmTZdz3U"
      },
      "outputs": [],
      "source": [
        "args = parser.parse_args()\n",
        "args.cuda = args.use_cuda and torch.cuda.is_available()"
      ]
    },
    {
      "cell_type": "code",
      "execution_count": 6,
      "metadata": {
        "id": "6QG5cmDRsjsX"
      },
      "outputs": [],
      "source": [
        "def set_seed(seed,cuda):\n",
        "    np.random.seed(seed)\n",
        "    torch.manual_seed(seed)\n",
        "    if cuda:\n",
        "        torch.cuda.manual_seed(seed)\n",
        "\n",
        "def dateinf(series, n_test):\n",
        "    lt = len(series)\n",
        "    print('Training start',series[0])\n",
        "    print('Training end',series[lt-n_test-1])\n",
        "    print('Testing start',series[lt-n_test])\n",
        "    print('Testing end',series[lt-1])\n",
        "\n",
        "set_seed(args.seed,args.cuda)"
      ]
    },
    {
      "cell_type": "code",
      "execution_count": 130,
      "metadata": {
        "id": "lWQcYHL33wwz"
      },
      "outputs": [],
      "source": [
        "class Net(nn.Module):\n",
        "    def __init__(self,in_dim,out_dim):\n",
        "        super().__init__()\n",
        "        self.config = MambaConfig(d_model=args.hidden, n_layers=args.layer)\n",
        "        self.mamba = nn.Sequential(\n",
        "            nn.Linear(in_dim,args.hidden),\n",
        "            Mamba(self.config),\n",
        "            nn.Linear(args.hidden,out_dim),\n",
        "            #-----------------------------\n",
        "            nn.ReLU()\n",
        "            #-----------------------------\n",
        "        )\n",
        "\n",
        "    def forward(self,x):\n",
        "        x = self.mamba(x)\n",
        "        return x.flatten()\n",
        "\n",
        "\n",
        "\n",
        "def BL_loss(data, output):\n",
        "    #feature data is M, t, x | 'label' is u\n",
        "    data = data.squeeze(0)  # Now tensor has shape (500, 2)\n",
        "    #print(data.shape)\n",
        "    #print(output.shape)\n",
        "    #print(data[:,5])\n",
        "    tot_data = torch.column_stack((data, output)).requires_grad_()\n",
        "    tot_data.retain_grad()\n",
        "    #print(tot_data.shape)\n",
        "    sum = 0\n",
        "    # ----- Initial Condition ----\n",
        "    init_data = tot_data[np.where(data[:,1]==0)] # observations at time == 0\n",
        "    print(init_data.shape)\n",
        "    init_preds = init_data[:,3]\n",
        "    IC_loss = torch.mean(init_preds**2) # penalizing where init_preds @t=0 != 0\n",
        "    sum += IC_loss\n",
        "    IC_loss = None # clear up memory\n",
        "\n",
        "    # ----- Boundary Condition ----\n",
        "    boundary_data = tot_data[np.where(data[:,2]==0)] # observations at x == 0\n",
        "    boundary_preds = boundary_data[:,3]\n",
        "    BC_loss = torch.mean((boundary_preds - 1)**2) # penalizing where init_preds @x=0 != 1\n",
        "    sum += BC_loss\n",
        "    BC_loss = None\n",
        "    # ----- Residual Loss ----\n",
        "    for M in np.unique(data[:,0]):  # Ms = {2,4, ..., 100}\n",
        "        # Automatic differentiation to compute derivatives\n",
        "        Mdata = tot_data[np.where(data[:,0] == M)].requires_grad_() # data for this M\n",
        "        print(Mdata.shape)\n",
        "        outputs = (Mdata[:,3]).requires_grad_() # select outputs corresponding to the specific M\n",
        "        print(outputs.shape)\n",
        "        # ------R1 ------\n",
        "        ts = (Mdata[:,1]).requires_grad_()\n",
        "        u_t = torch.autograd.grad(outputs, ts, grad_outputs=torch.ones_like(outputs), allow_unused=True)[0] #create_graph=True\n",
        "\n",
        "        \"\"\"\n",
        "        # IF autograd method doesnt work: implemented the approximation\n",
        "        R1 = torch.zeros((len(output)-1),len(np.unique(Mdata[:,1])))\n",
        "        ts = np.unique(Mdata[:,1])\n",
        "        xs = np.unique(Mdata[:,2])\n",
        "        for i in range(1, len(ts)-1):        # looping thru t's\n",
        "            for j in range(1, len(xs)-1):    # looping thru x's\n",
        "                pre_u = Mdata[np.where((Mdata[:, 1] == ts[1-i]) * (Mdata[:, 2] == xs[i]))] #select row that satisfies both conditions\n",
        "                pre_u = pre_u[3]\n",
        "\n",
        "                post_u = Mdata[np.where((Mdata[:, 1] == ts[1+i]) * (Mdata[:, 2] == xs[i]))] #select row that satisfies both conditions\n",
        "                post_u = post_u[3]\n",
        "\n",
        "                R1[i,j] = (post_u - pre_u)/(ts[1+i] - ts[1-i])\n",
        "\n",
        "        # ---- R2 -----\n",
        "        f_theta = []\n",
        "        for i in range(len(xs)):\n",
        "            arr =\n",
        "\n",
        "        f_theta = np.array(f_theta)\n",
        "        for i in range(1, len(ts)-1):        # looping thru t's\n",
        "            for j in range(1, len(xs)-1):    # looping thru x's\n",
        "\n",
        "\n",
        "\n",
        "        \"\"\"\n",
        "        # ------R2 ------\n",
        "        # Define the flux function and its derivative\n",
        "\n",
        "        f = (outputs**2 / (outputs**2 + (1/M)*(1-outputs)**2)).requires_grad_()\n",
        "        print(f.shape)\n",
        "        xs = (Mdata[:,2]).requires_grad_()\n",
        "        f_x = torch.autograd.grad(f, xs, grad_outputs=torch.ones_like(f), allow_unused=True)[0]\n",
        "        print(f_x, u_t)\n",
        "\n",
        "        sum += (np.linalg.norm(u_t + f_x))**2\n",
        "\n",
        "    return torch.tensor(sum, dtype=torch.float32)"
      ]
    },
    {
      "cell_type": "code",
      "execution_count": 129,
      "metadata": {
        "id": "cayycSs9329a"
      },
      "outputs": [],
      "source": [
        "def PredictWithData(trainX, testX):\n",
        "    clf = Net(len(trainX[0]),1)\n",
        "    opt = torch.optim.Adam(clf.parameters(),lr=args.lr,weight_decay=args.wd)\n",
        "    xt = torch.from_numpy(trainX).float().unsqueeze(0)\n",
        "    xv = torch.from_numpy(testX).float().unsqueeze(0)\n",
        "    #yt = torch.from_numpy(trainy).float()\n",
        "    if args.cuda:\n",
        "        clf = clf.cuda()\n",
        "        xt = xt.cuda()\n",
        "        xv = xv.cuda()\n",
        "        yt = yt.cuda()\n",
        "\n",
        "    for e in range(args.epochs):\n",
        "        clf.train()\n",
        "        z = clf(xt)\n",
        "        #print(z.shape)\n",
        "        z = z.clone().detach().requires_grad_()\n",
        "        z.retain_grad()\n",
        "        #-----------------------------------------------------------\n",
        "        loss = BL_loss(xt, z) # NEW LOSS\n",
        "        #-----------------------------------------------------------\n",
        "        opt.zero_grad()\n",
        "        print(\"Backward is reached\")\n",
        "        loss.backward()\n",
        "        opt.step()\n",
        "        if e%10 == 0 and e!=0:\n",
        "            print('Epoch %d | Lossp: %.4f' % (e, loss.item()))\n",
        "\n",
        "    clf.eval()\n",
        "    mat = clf(xv)\n",
        "    if args.cuda: mat = mat.cpu()\n",
        "    yhat = mat.detach().numpy().flatten()\n",
        "    return yhat"
      ]
    },
    {
      "cell_type": "code",
      "execution_count": 66,
      "metadata": {
        "colab": {
          "base_uri": "https://localhost:8080/"
        },
        "id": "gke_xFxN38Ri",
        "outputId": "34a665fe-3a23-42b5-df90-59f53e70dbd3"
      },
      "outputs": [
        {
          "name": "stdout",
          "output_type": "stream",
          "text": [
            "     M  t      x    u\n",
            "0  2.0  0  0.000  1.0\n",
            "1  2.0  0  0.003  0.0\n",
            "2  2.0  0  0.006  0.0\n",
            "3  2.0  0  0.009  0.0\n",
            "4  2.0  0  0.012  0.0\n"
          ]
        }
      ],
      "source": [
        "train_dat = pd.read_csv('final_train_data.csv')\n",
        "print(train_dat.head())\n",
        "test_dat = pd.read_csv('test_data_new.csv')"
      ]
    },
    {
      "cell_type": "code",
      "execution_count": 69,
      "metadata": {
        "id": "p_BKFXoZ86x2"
      },
      "outputs": [],
      "source": [
        "trainY = train_dat.iloc[0:500,3].values\n",
        "#print(trainY.head())\n",
        "trainX = train_dat.iloc[0:500,:3].values\n",
        "#print(trainX.shape)"
      ]
    },
    {
      "cell_type": "code",
      "execution_count": 70,
      "metadata": {
        "id": "pSeISb_f9JNp"
      },
      "outputs": [],
      "source": [
        "testY = test_dat.iloc[0:100,3].values\n",
        "testX = test_dat.iloc[0:100,0:3].values"
      ]
    },
    {
      "cell_type": "code",
      "execution_count": 71,
      "metadata": {
        "colab": {
          "base_uri": "https://localhost:8080/"
        },
        "id": "mmOJnQ3XErSz",
        "outputId": "0495b065-174a-47d1-92f9-8cff137547cb"
      },
      "outputs": [
        {
          "name": "stdout",
          "output_type": "stream",
          "text": [
            "Shape of trainX: (500, 3)\n",
            "Shape of testX: (100, 3)\n"
          ]
        }
      ],
      "source": [
        "print(f\"Shape of trainX: {trainX.shape}\")\n",
        "print(f\"Shape of testX: {testX.shape}\")"
      ]
    },
    {
      "cell_type": "code",
      "execution_count": 13,
      "metadata": {
        "colab": {
          "base_uri": "https://localhost:8080/"
        },
        "id": "ASqRqThBBfLj",
        "outputId": "9613b639-cb57-472f-d1e0-79bfe89374ed"
      },
      "outputs": [
        {
          "data": {
            "text/plain": [
              "5577800"
            ]
          },
          "execution_count": 13,
          "metadata": {},
          "output_type": "execute_result"
        }
      ],
      "source": [
        "trainX.size"
      ]
    },
    {
      "cell_type": "code",
      "execution_count": 131,
      "metadata": {
        "colab": {
          "base_uri": "https://localhost:8080/",
          "height": 373
        },
        "id": "X3dtlTUo8-S8",
        "outputId": "994027a4-575a-427d-cd99-d4264fd9b824"
      },
      "outputs": [
        {
          "name": "stdout",
          "output_type": "stream",
          "text": [
            "torch.Size([500, 4])\n",
            "torch.Size([500, 4])\n",
            "torch.Size([500])\n",
            "torch.Size([500])\n",
            "None None\n"
          ]
        },
        {
          "ename": "TypeError",
          "evalue": "unsupported operand type(s) for +: 'NoneType' and 'NoneType'",
          "output_type": "error",
          "traceback": [
            "\u001b[0;31m---------------------------------------------------------------------------\u001b[0m",
            "\u001b[0;31mTypeError\u001b[0m                                 Traceback (most recent call last)",
            "\u001b[0;32m<ipython-input-131-e6a33f9a48af>\u001b[0m in \u001b[0;36m<cell line: 1>\u001b[0;34m()\u001b[0m\n\u001b[0;32m----> 1\u001b[0;31m \u001b[0mpredictions\u001b[0m \u001b[0;34m=\u001b[0m \u001b[0mPredictWithData\u001b[0m\u001b[0;34m(\u001b[0m\u001b[0mtrainX\u001b[0m\u001b[0;34m,\u001b[0m \u001b[0mtestX\u001b[0m\u001b[0;34m)\u001b[0m\u001b[0;34m\u001b[0m\u001b[0;34m\u001b[0m\u001b[0m\n\u001b[0m",
            "\u001b[0;32m<ipython-input-129-4ec783c209cd>\u001b[0m in \u001b[0;36mPredictWithData\u001b[0;34m(trainX, testX)\u001b[0m\n\u001b[1;32m     18\u001b[0m         \u001b[0mz\u001b[0m\u001b[0;34m.\u001b[0m\u001b[0mretain_grad\u001b[0m\u001b[0;34m(\u001b[0m\u001b[0;34m)\u001b[0m\u001b[0;34m\u001b[0m\u001b[0;34m\u001b[0m\u001b[0m\n\u001b[1;32m     19\u001b[0m         \u001b[0;31m#-----------------------------------------------------------\u001b[0m\u001b[0;34m\u001b[0m\u001b[0;34m\u001b[0m\u001b[0m\n\u001b[0;32m---> 20\u001b[0;31m         \u001b[0mloss\u001b[0m \u001b[0;34m=\u001b[0m \u001b[0mBL_loss\u001b[0m\u001b[0;34m(\u001b[0m\u001b[0mxt\u001b[0m\u001b[0;34m,\u001b[0m \u001b[0mz\u001b[0m\u001b[0;34m)\u001b[0m \u001b[0;31m# NEW LOSS\u001b[0m\u001b[0;34m\u001b[0m\u001b[0;34m\u001b[0m\u001b[0m\n\u001b[0m\u001b[1;32m     21\u001b[0m         \u001b[0;31m#-----------------------------------------------------------\u001b[0m\u001b[0;34m\u001b[0m\u001b[0;34m\u001b[0m\u001b[0m\n\u001b[1;32m     22\u001b[0m         \u001b[0mopt\u001b[0m\u001b[0;34m.\u001b[0m\u001b[0mzero_grad\u001b[0m\u001b[0;34m(\u001b[0m\u001b[0;34m)\u001b[0m\u001b[0;34m\u001b[0m\u001b[0;34m\u001b[0m\u001b[0m\n",
            "\u001b[0;32m<ipython-input-130-c62f70a0e125>\u001b[0m in \u001b[0;36mBL_loss\u001b[0;34m(data, output)\u001b[0m\n\u001b[1;32m     89\u001b[0m         \u001b[0mprint\u001b[0m\u001b[0;34m(\u001b[0m\u001b[0mf_x\u001b[0m\u001b[0;34m,\u001b[0m \u001b[0mu_t\u001b[0m\u001b[0;34m)\u001b[0m\u001b[0;34m\u001b[0m\u001b[0;34m\u001b[0m\u001b[0m\n\u001b[1;32m     90\u001b[0m \u001b[0;34m\u001b[0m\u001b[0m\n\u001b[0;32m---> 91\u001b[0;31m         \u001b[0msum\u001b[0m \u001b[0;34m+=\u001b[0m \u001b[0;34m(\u001b[0m\u001b[0mnp\u001b[0m\u001b[0;34m.\u001b[0m\u001b[0mlinalg\u001b[0m\u001b[0;34m.\u001b[0m\u001b[0mnorm\u001b[0m\u001b[0;34m(\u001b[0m\u001b[0mu_t\u001b[0m \u001b[0;34m+\u001b[0m \u001b[0mf_x\u001b[0m\u001b[0;34m)\u001b[0m\u001b[0;34m)\u001b[0m\u001b[0;34m**\u001b[0m\u001b[0;36m2\u001b[0m\u001b[0;34m\u001b[0m\u001b[0;34m\u001b[0m\u001b[0m\n\u001b[0m\u001b[1;32m     92\u001b[0m \u001b[0;34m\u001b[0m\u001b[0m\n\u001b[1;32m     93\u001b[0m     \u001b[0;32mreturn\u001b[0m \u001b[0mtorch\u001b[0m\u001b[0;34m.\u001b[0m\u001b[0mtensor\u001b[0m\u001b[0;34m(\u001b[0m\u001b[0msum\u001b[0m\u001b[0;34m,\u001b[0m \u001b[0mdtype\u001b[0m\u001b[0;34m=\u001b[0m\u001b[0mtorch\u001b[0m\u001b[0;34m.\u001b[0m\u001b[0mfloat32\u001b[0m\u001b[0;34m)\u001b[0m\u001b[0;34m\u001b[0m\u001b[0;34m\u001b[0m\u001b[0m\n",
            "\u001b[0;31mTypeError\u001b[0m: unsupported operand type(s) for +: 'NoneType' and 'NoneType'"
          ]
        }
      ],
      "source": [
        "predictions = PredictWithData(trainX, testX)"
      ]
    }
  ],
  "metadata": {
    "accelerator": "GPU",
    "colab": {
      "gpuType": "A100",
      "provenance": []
    },
    "kernelspec": {
      "display_name": "Python 3",
      "name": "python3"
    },
    "language_info": {
      "codemirror_mode": {
        "name": "ipython",
        "version": 3
      },
      "file_extension": ".py",
      "mimetype": "text/x-python",
      "name": "python",
      "nbconvert_exporter": "python",
      "pygments_lexer": "ipython3",
      "version": "3.12.0"
    }
  },
  "nbformat": 4,
  "nbformat_minor": 0
}
